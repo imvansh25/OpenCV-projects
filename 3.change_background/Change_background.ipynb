{
 "cells": [
  {
   "cell_type": "code",
   "execution_count": 16,
   "metadata": {},
   "outputs": [],
   "source": [
    "import cv2\n",
    "import numpy as np\n",
    "import sys\n",
    "import time\n",
    "\n",
    "def resize(dst,img):\n",
    "        width = img.shape[1]\n",
    "        height = img.shape[0]\n",
    "        dim = (width, height)\n",
    "        resized = cv2.resize(dst, dim, interpolation = cv2.INTER_AREA)\n",
    "        return resized\n",
    "\n",
    "video = cv2.VideoCapture(0)\n",
    "oceanVideo = cv2.VideoCapture(\"ocean.mp4\")\n",
    "time.sleep(3)\n",
    "for i in range(50):\n",
    "    ret,ref_img = video.read()\n",
    "\n",
    "ret,ref_img = video.read()    \n",
    "\n",
    "\n",
    "while(1):\n",
    "        success, img = video.read()\n",
    "        success2, bg = oceanVideo.read()\n",
    "        bg = resize(bg,ref_img)\n",
    "        # create a mask\n",
    "        diff1=cv2.subtract(img,ref_img)\n",
    "        diff2=cv2.subtract(ref_img,img)\n",
    "        diff = diff1+diff2\n",
    "        diff[abs(diff)<20.0]=0\n",
    "        gray = cv2.cvtColor(diff.astype(np.uint8), cv2.COLOR_BGR2GRAY)\n",
    "        gray[np.abs(gray) < 10] = 0\n",
    "        fgmask = gray.astype(np.uint8)\n",
    "        fgmask[fgmask>0]=255\n",
    "        #invert the mask\n",
    "        fgmask_inv = cv2.bitwise_not(fgmask)\n",
    "        #use the masks to extract the relevant parts from FG and BG\n",
    "        fgimg = cv2.bitwise_and(img,img,mask = fgmask)\n",
    "        bgimg = cv2.bitwise_and(bg,bg,mask = fgmask_inv)\n",
    "        #combine both the BG and the FG images\n",
    "        dst = cv2.add(bgimg,fgimg)\n",
    "        cv2.imshow('Background Removal',dst)\n",
    "        key = cv2.waitKey(5) & 0xFF\n",
    "        if ord('q') == key:\n",
    "                break\n",
    "       \n",
    "\n",
    "cv2.destroyAllWindows()\n",
    "video.release()"
   ]
  },
  {
   "cell_type": "code",
   "execution_count": 12,
   "metadata": {},
   "outputs": [],
   "source": []
  },
  {
   "cell_type": "code",
   "execution_count": null,
   "metadata": {},
   "outputs": [],
   "source": []
  }
 ],
 "metadata": {
  "kernelspec": {
   "display_name": "Python 3",
   "language": "python",
   "name": "python3"
  },
  "language_info": {
   "codemirror_mode": {
    "name": "ipython",
    "version": 3
   },
   "file_extension": ".py",
   "mimetype": "text/x-python",
   "name": "python",
   "nbconvert_exporter": "python",
   "pygments_lexer": "ipython3",
   "version": "3.7.7"
  }
 },
 "nbformat": 4,
 "nbformat_minor": 4
}
